{
 "cells": [
  {
   "cell_type": "markdown",
   "metadata": {},
   "source": [
    "# Training des Baseline-Modells\n",
    "\n",
    "Dieses Notebook implementiert das Training eines linearen Regressionsmodells als Baseline für die Umsatzvorhersage. Das trainierte Modell wird für spätere Verwendung gespeichert.\n",
    "\n",
    "## Übersicht\n",
    "1. Bibliotheken importieren\n",
    "2. Daten laden und vorbereiten\n",
    "3. Modell trainieren\n",
    "4. Modell evaluieren\n",
    "5. Modell speichern"
   ]
  },
  {
   "cell_type": "markdown",
   "metadata": {},
   "source": [
    "## 1. Bibliotheken importieren"
   ]
  },
  {
   "cell_type": "code",
   "execution_count": 1,
   "metadata": {},
   "outputs": [],
   "source": [
    "import pandas as pd\n",
    "import numpy as np\n",
    "from sklearn.linear_model import LinearRegression\n",
    "from sklearn.metrics import mean_squared_error, r2_score\n",
    "import joblib\n",
    "import sys\n",
    "import os\n",
    "\n",
    "# Add the DataPreparation directory to the Python path\n",
    "project_root = os.path.abspath(os.path.join(os.getcwd(), '..'))\n",
    "data_prep_path = os.path.join(project_root, '0_DataPreparation')\n",
    "sys.path.append(data_prep_path)\n",
    "from data_preparation import DataPreparation"
   ]
  },
  {
   "cell_type": "markdown",
   "metadata": {},
   "source": [
    "## 2. Daten laden und vorbereiten"
   ]
  },
  {
   "cell_type": "code",
   "execution_count": 2,
   "metadata": {},
   "outputs": [
    {
     "name": "stdout",
     "output_type": "stream",
     "text": [
      "Trainingsdaten: von 2013-07-01 00:00:00 bis 2017-07-31 00:00:00\n",
      "Testdaten: von 2017-08-01 00:00:00 bis 2018-07-31 00:00:00\n",
      "Anzahl Trainingssamples: 7493\n",
      "Anzahl Testsamples: 1841\n",
      "Trainingsdaten Shape: (7493, 29)\n",
      "Testdaten Shape: (1841, 29)\n"
     ]
    }
   ],
   "source": [
    "# Daten laden und vorbereiten\n",
    "data_prep = DataPreparation()\n",
    "data = data_prep.load_data()\n",
    "train_data, test_data = data_prep.split_data(data)\n",
    "\n",
    "# Features und Zielwerte vorbereiten\n",
    "X_train, y_train = data_prep.prepare_data(train_data, is_training=True)\n",
    "X_test, y_test = data_prep.prepare_data(test_data, is_training=False)\n",
    "\n",
    "print(\"Trainingsdaten Shape:\", X_train.shape)\n",
    "print(\"Testdaten Shape:\", X_test.shape)"
   ]
  },
  {
   "cell_type": "markdown",
   "metadata": {},
   "source": [
    "## 3. Modell trainieren"
   ]
  },
  {
   "cell_type": "code",
   "execution_count": 3,
   "metadata": {},
   "outputs": [],
   "source": [
    "# Modell initialisieren und trainieren\n",
    "model = LinearRegression()\n",
    "model.fit(X_train, y_train)\n",
    "\n",
    "# Vorhersagen machen\n",
    "y_pred_train = model.predict(X_train)\n",
    "y_pred_test = model.predict(X_test)"
   ]
  },
  {
   "cell_type": "markdown",
   "metadata": {},
   "source": [
    "## 4. Modell evaluieren"
   ]
  },
  {
   "cell_type": "code",
   "execution_count": 4,
   "metadata": {},
   "outputs": [
    {
     "name": "stdout",
     "output_type": "stream",
     "text": [
      "\n",
      "Trainingsdaten Metriken:\n",
      "MSE: 5675.27\n",
      "RMSE: 75.33\n",
      "R²: 0.7401\n",
      "\n",
      "Testdaten Metriken:\n",
      "MSE: 5038.79\n",
      "RMSE: 70.98\n",
      "R²: 0.7022\n"
     ]
    }
   ],
   "source": [
    "# Modell auf Trainingsdaten evaluieren\n",
    "train_mse = mean_squared_error(y_train, y_pred_train)\n",
    "train_rmse = np.sqrt(train_mse)\n",
    "train_r2 = r2_score(y_train, y_pred_train)\n",
    "\n",
    "print(\"\\nTrainingsdaten Metriken:\")\n",
    "print(f\"MSE: {train_mse:.2f}\")\n",
    "print(f\"RMSE: {train_rmse:.2f}\")\n",
    "print(f\"R²: {train_r2:.4f}\")\n",
    "\n",
    "# Modell auf Testdaten evaluieren\n",
    "test_mse = mean_squared_error(y_test, y_pred_test)\n",
    "test_rmse = np.sqrt(test_mse)\n",
    "test_r2 = r2_score(y_test, y_pred_test)\n",
    "\n",
    "print(\"\\nTestdaten Metriken:\")\n",
    "print(f\"MSE: {test_mse:.2f}\")\n",
    "print(f\"RMSE: {test_rmse:.2f}\")\n",
    "print(f\"R²: {test_r2:.4f}\")"
   ]
  },
  {
   "cell_type": "markdown",
   "metadata": {},
   "source": [
    "## 5. Modell speichern"
   ]
  },
  {
   "cell_type": "code",
   "execution_count": 5,
   "metadata": {},
   "outputs": [
    {
     "name": "stdout",
     "output_type": "stream",
     "text": [
      "\n",
      "Modell gespeichert unter: /Users/admin/Dropbox/@PARA/Projects/opencampus/bakery_sales_prediction/2_BaselineModel/linear_regression_model.joblib\n",
      "Feature Namen gespeichert unter: /Users/admin/Dropbox/@PARA/Projects/opencampus/bakery_sales_prediction/2_BaselineModel/feature_names.joblib\n"
     ]
    }
   ],
   "source": [
    "# Modell speichern\n",
    "model_path = os.path.join(os.getcwd(), 'linear_regression_model.joblib')\n",
    "joblib.dump(model, model_path)\n",
    "print(f\"\\nModell gespeichert unter: {model_path}\")\n",
    "\n",
    "# Feature Namen speichern\n",
    "feature_names = X_train.columns.tolist()\n",
    "feature_names_path = os.path.join(os.getcwd(), 'feature_names.joblib')\n",
    "joblib.dump(feature_names, feature_names_path)\n",
    "print(f\"Feature Namen gespeichert unter: {feature_names_path}\")"
   ]
  },
  {
   "cell_type": "markdown",
   "metadata": {},
   "source": [
    "## 6. Modellkoeffizienten anzeigen"
   ]
  },
  {
   "cell_type": "code",
   "execution_count": 6,
   "metadata": {},
   "outputs": [
    {
     "name": "stdout",
     "output_type": "stream",
     "text": [
      "\n",
      "Modellkoeffizienten (sortiert nach absolutem Wert):\n",
      "                   Feature   Coefficient\n",
      "           Jahreszeit_fall -6.840234e+12\n",
      "         Jahreszeit_winter -6.840234e+12\n",
      "         Jahreszeit_spring -6.840234e+12\n",
      "         Jahreszeit_summer -6.840234e+12\n",
      " Temp_Kategorie_Basis_kalt -5.827809e+12\n",
      " Temp_Kategorie_Basis_warm -5.827809e+12\n",
      " Temp_Kategorie_Basis_mild -5.827809e+12\n",
      "Temp_Kategorie_Saison_warm  4.854983e+12\n",
      "Temp_Kategorie_Saison_kalt  4.854983e+12\n",
      "Temp_Kategorie_Saison_mild  4.854983e+12\n",
      "             Warengruppe_2  1.395422e+12\n",
      "             Warengruppe_5  1.395422e+12\n",
      "             Warengruppe_3  1.395422e+12\n",
      "             Warengruppe_1  1.395422e+12\n",
      "             Warengruppe_4  1.395422e+12\n",
      "             Warengruppe_6  1.395422e+12\n",
      "    Position_im_Monat_Ende -5.974905e+11\n",
      "   Position_im_Monat_Mitte -5.974905e+11\n",
      "  Position_im_Monat_Anfang -5.974905e+11\n",
      "             Woche_im_Jahr -4.325488e+01\n",
      "                   Quartal  2.571891e+01\n",
      "            ist_Wochenende  2.170027e+01\n",
      "                     Monat  1.827720e+01\n",
      "                      Jahr -1.484718e+01\n",
      "              Tag_im_Monat  8.927440e+00\n",
      "                Temperatur  8.372725e+00\n",
      "                 Wochentag  2.409203e+00\n",
      "                Bewoelkung -1.718347e+00\n",
      "       Windgeschwindigkeit  6.955895e-01\n"
     ]
    }
   ],
   "source": [
    "# Modellkoeffizienten als DataFrame\n",
    "coefficients = pd.DataFrame({\n",
    "    'Feature': X_train.columns,\n",
    "    'Coefficient': model.coef_\n",
    "})\n",
    "coefficients['Abs_Coefficient'] = abs(coefficients['Coefficient'])\n",
    "coefficients = coefficients.sort_values('Abs_Coefficient', ascending=False)\n",
    "\n",
    "print(\"\\nModellkoeffizienten (sortiert nach absolutem Wert):\")\n",
    "print(coefficients[['Feature', 'Coefficient']].to_string(index=False))"
   ]
  }
 ],
 "metadata": {
  "kernelspec": {
   "display_name": "venv",
   "language": "python",
   "name": "python3"
  },
  "language_info": {
   "codemirror_mode": {
    "name": "ipython",
    "version": 3
   },
   "file_extension": ".py",
   "mimetype": "text/x-python",
   "name": "python",
   "nbconvert_exporter": "python",
   "pygments_lexer": "ipython3",
   "version": "3.10.14"
  }
 },
 "nbformat": 4,
 "nbformat_minor": 5
}
