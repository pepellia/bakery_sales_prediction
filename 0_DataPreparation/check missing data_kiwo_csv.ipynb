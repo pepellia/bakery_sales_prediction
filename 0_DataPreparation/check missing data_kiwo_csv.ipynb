{
 "cells": [
  {
   "cell_type": "code",
   "execution_count": 1,
   "metadata": {},
   "outputs": [],
   "source": [
    "import pandas as pd"
   ]
  },
  {
   "cell_type": "code",
   "execution_count": 2,
   "metadata": {},
   "outputs": [
    {
     "name": "stdout",
     "output_type": "stream",
     "text": [
      "Datei erfolgreich geladen.\n"
     ]
    }
   ],
   "source": [
    "# Datei einlesen\n",
    "try:\n",
    "    file_path = \"kiwo.csv\"  # Pfad zur CSV-Datei\n",
    "    df = pd.read_csv(file_path)\n",
    "    print(\"Datei erfolgreich geladen.\")\n",
    "except FileNotFoundError:\n",
    "    print(f\"Die Datei '{file_path}' wurde nicht gefunden. Bitte überprüfe den Dateinamen und Pfad.\")\n",
    "    exit()"
   ]
  },
  {
   "cell_type": "code",
   "execution_count": 3,
   "metadata": {},
   "outputs": [
    {
     "name": "stdout",
     "output_type": "stream",
     "text": [
      "\n",
      "Überprüfung auf fehlende Daten:\n",
      "Keine fehlenden Werte gefunden.\n"
     ]
    }
   ],
   "source": [
    "# Fehlende Werte überprüfen\n",
    "print(\"\\nÜberprüfung auf fehlende Daten:\")\n",
    "missing_data = df.isnull().sum()\n",
    "\n",
    "if missing_data.any():\n",
    "    print(\"Fehlende Werte in den Spalten:\")\n",
    "    for column, missing_count in missing_data.items():\n",
    "        if missing_count > 0:\n",
    "            print(f\"- {column}: {missing_count} fehlende Werte\")\n",
    "else:\n",
    "    print(\"Keine fehlenden Werte gefunden.\")\n"
   ]
  }
 ],
 "metadata": {
  "kernelspec": {
   "display_name": "Python 3",
   "language": "python",
   "name": "python3"
  },
  "language_info": {
   "codemirror_mode": {
    "name": "ipython",
    "version": 3
   },
   "file_extension": ".py",
   "mimetype": "text/x-python",
   "name": "python",
   "nbconvert_exporter": "python",
   "pygments_lexer": "ipython3",
   "version": "3.12.1"
  }
 },
 "nbformat": 4,
 "nbformat_minor": 2
}
