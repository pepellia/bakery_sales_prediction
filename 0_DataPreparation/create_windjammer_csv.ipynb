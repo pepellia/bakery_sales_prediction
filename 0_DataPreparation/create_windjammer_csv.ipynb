{
 "cells": [
  {
   "cell_type": "markdown",
   "metadata": {},
   "source": [
    "# Windjammerparade Daten Erstellung\n",
    "\n",
    "Dieses Notebook erstellt eine CSV-Datei mit den Daten der Windjammerparade während der Kieler Woche. Die Windjammerparade findet traditionell am zweiten Samstag der Kieler Woche statt."
   ]
  },
  {
   "cell_type": "markdown",
   "metadata": {},
   "source": [
    "## 1. Benötigte Bibliotheken importieren"
   ]
  },
  {
   "cell_type": "code",
   "execution_count": 1,
   "metadata": {},
   "outputs": [],
   "source": [
    "import pandas as pd"
   ]
  },
  {
   "cell_type": "markdown",
   "metadata": {},
   "source": [
    "## 2. Kieler Woche Daten einlesen\n",
    "\n",
    "Wir lesen die Kieler Woche Daten aus der CSV-Datei und konvertieren das Datum in das datetime-Format."
   ]
  },
  {
   "cell_type": "code",
   "execution_count": 2,
   "metadata": {},
   "outputs": [
    {
     "data": {
      "text/html": [
       "<div>\n",
       "<style scoped>\n",
       "    .dataframe tbody tr th:only-of-type {\n",
       "        vertical-align: middle;\n",
       "    }\n",
       "\n",
       "    .dataframe tbody tr th {\n",
       "        vertical-align: top;\n",
       "    }\n",
       "\n",
       "    .dataframe thead th {\n",
       "        text-align: right;\n",
       "    }\n",
       "</style>\n",
       "<table border=\"1\" class=\"dataframe\">\n",
       "  <thead>\n",
       "    <tr style=\"text-align: right;\">\n",
       "      <th></th>\n",
       "      <th>Datum</th>\n",
       "      <th>KielerWoche</th>\n",
       "    </tr>\n",
       "  </thead>\n",
       "  <tbody>\n",
       "    <tr>\n",
       "      <th>0</th>\n",
       "      <td>2012-06-16</td>\n",
       "      <td>1</td>\n",
       "    </tr>\n",
       "    <tr>\n",
       "      <th>1</th>\n",
       "      <td>2012-06-17</td>\n",
       "      <td>1</td>\n",
       "    </tr>\n",
       "    <tr>\n",
       "      <th>2</th>\n",
       "      <td>2012-06-18</td>\n",
       "      <td>1</td>\n",
       "    </tr>\n",
       "    <tr>\n",
       "      <th>3</th>\n",
       "      <td>2012-06-19</td>\n",
       "      <td>1</td>\n",
       "    </tr>\n",
       "    <tr>\n",
       "      <th>4</th>\n",
       "      <td>2012-06-20</td>\n",
       "      <td>1</td>\n",
       "    </tr>\n",
       "  </tbody>\n",
       "</table>\n",
       "</div>"
      ],
      "text/plain": [
       "       Datum  KielerWoche\n",
       "0 2012-06-16            1\n",
       "1 2012-06-17            1\n",
       "2 2012-06-18            1\n",
       "3 2012-06-19            1\n",
       "4 2012-06-20            1"
      ]
     },
     "execution_count": 2,
     "metadata": {},
     "output_type": "execute_result"
    }
   ],
   "source": [
    "# Kieler Woche Daten einlesen\n",
    "kiwo_df = pd.read_csv('kiwo.csv')\n",
    "kiwo_df['Datum'] = pd.to_datetime(kiwo_df['Datum'])\n",
    "\n",
    "# Erste Zeilen anzeigen\n",
    "kiwo_df.head()"
   ]
  },
  {
   "cell_type": "markdown",
   "metadata": {},
   "source": [
    "## 3. Wochentage und Jahre hinzufügen\n",
    "\n",
    "Wir fügen zwei neue Spalten hinzu:\n",
    "- Wochentag (0 = Montag, 6 = Sonntag)\n",
    "- Jahr"
   ]
  },
  {
   "cell_type": "code",
   "execution_count": 3,
   "metadata": {},
   "outputs": [
    {
     "data": {
      "text/html": [
       "<div>\n",
       "<style scoped>\n",
       "    .dataframe tbody tr th:only-of-type {\n",
       "        vertical-align: middle;\n",
       "    }\n",
       "\n",
       "    .dataframe tbody tr th {\n",
       "        vertical-align: top;\n",
       "    }\n",
       "\n",
       "    .dataframe thead th {\n",
       "        text-align: right;\n",
       "    }\n",
       "</style>\n",
       "<table border=\"1\" class=\"dataframe\">\n",
       "  <thead>\n",
       "    <tr style=\"text-align: right;\">\n",
       "      <th></th>\n",
       "      <th>Datum</th>\n",
       "      <th>KielerWoche</th>\n",
       "      <th>Wochentag</th>\n",
       "      <th>Jahr</th>\n",
       "    </tr>\n",
       "  </thead>\n",
       "  <tbody>\n",
       "    <tr>\n",
       "      <th>0</th>\n",
       "      <td>2012-06-16</td>\n",
       "      <td>1</td>\n",
       "      <td>5</td>\n",
       "      <td>2012</td>\n",
       "    </tr>\n",
       "    <tr>\n",
       "      <th>1</th>\n",
       "      <td>2012-06-17</td>\n",
       "      <td>1</td>\n",
       "      <td>6</td>\n",
       "      <td>2012</td>\n",
       "    </tr>\n",
       "    <tr>\n",
       "      <th>2</th>\n",
       "      <td>2012-06-18</td>\n",
       "      <td>1</td>\n",
       "      <td>0</td>\n",
       "      <td>2012</td>\n",
       "    </tr>\n",
       "    <tr>\n",
       "      <th>3</th>\n",
       "      <td>2012-06-19</td>\n",
       "      <td>1</td>\n",
       "      <td>1</td>\n",
       "      <td>2012</td>\n",
       "    </tr>\n",
       "    <tr>\n",
       "      <th>4</th>\n",
       "      <td>2012-06-20</td>\n",
       "      <td>1</td>\n",
       "      <td>2</td>\n",
       "      <td>2012</td>\n",
       "    </tr>\n",
       "  </tbody>\n",
       "</table>\n",
       "</div>"
      ],
      "text/plain": [
       "       Datum  KielerWoche  Wochentag  Jahr\n",
       "0 2012-06-16            1          5  2012\n",
       "1 2012-06-17            1          6  2012\n",
       "2 2012-06-18            1          0  2012\n",
       "3 2012-06-19            1          1  2012\n",
       "4 2012-06-20            1          2  2012"
      ]
     },
     "execution_count": 3,
     "metadata": {},
     "output_type": "execute_result"
    }
   ],
   "source": [
    "# Wochentag hinzufügen\n",
    "kiwo_df['Wochentag'] = kiwo_df['Datum'].dt.dayofweek\n",
    "\n",
    "# Jahr hinzufügen\n",
    "kiwo_df['Jahr'] = kiwo_df['Datum'].dt.year\n",
    "\n",
    "# Daten anzeigen\n",
    "kiwo_df.head()"
   ]
  },
  {
   "cell_type": "markdown",
   "metadata": {},
   "source": [
    "## 4. Windjammerparade-Tage identifizieren\n",
    "\n",
    "Die Windjammerparade findet am zweiten Samstag der Kieler Woche statt. Wir:\n",
    "1. Gruppieren die Daten nach Jahr\n",
    "2. Finden alle Samstage während der Kieler Woche\n",
    "3. Wählen den zweiten Samstag aus"
   ]
  },
  {
   "cell_type": "code",
   "execution_count": 4,
   "metadata": {},
   "outputs": [
    {
     "name": "stdout",
     "output_type": "stream",
     "text": [
      "Windjammerparade-Tage:\n",
      "2012-06-23\n",
      "2013-06-29\n",
      "2014-06-28\n",
      "2015-06-27\n",
      "2016-06-25\n",
      "2017-06-24\n",
      "2018-06-23\n",
      "2019-06-29\n"
     ]
    }
   ],
   "source": [
    "# Gruppiere nach Jahr\n",
    "kiwo_gruppen = kiwo_df.groupby('Jahr')\n",
    "\n",
    "# Liste für Windjammerparade-Tage\n",
    "windjammer_tage = []\n",
    "\n",
    "# Für jedes Jahr\n",
    "for jahr, gruppe in kiwo_gruppen:\n",
    "    # Finde alle Samstage (Wochentag 5) während der Kieler Woche\n",
    "    samstage = gruppe[gruppe['Wochentag'] == 5].sort_values('Datum')\n",
    "    \n",
    "    # Wenn es mindestens zwei Samstage gibt, nimm den zweiten\n",
    "    if len(samstage) >= 2:\n",
    "        windjammer_tag = samstage.iloc[1]['Datum']\n",
    "        windjammer_tage.append({\n",
    "            'Datum': windjammer_tag,\n",
    "            'Windjammerparade': 1\n",
    "        })\n",
    "\n",
    "# Erstelle DataFrame\n",
    "windjammer_df = pd.DataFrame(windjammer_tage)\n",
    "\n",
    "# Zeige die gefundenen Windjammerparade-Tage\n",
    "print(\"Windjammerparade-Tage:\")\n",
    "print(windjammer_df['Datum'].dt.strftime('%Y-%m-%d').to_string(index=False))"
   ]
  },
  {
   "cell_type": "markdown",
   "metadata": {},
   "source": [
    "## 5. Daten als CSV speichern"
   ]
  },
  {
   "cell_type": "code",
   "execution_count": 5,
   "metadata": {},
   "outputs": [
    {
     "name": "stdout",
     "output_type": "stream",
     "text": [
      "Datei 'windjammer.csv' wurde erstellt.\n"
     ]
    }
   ],
   "source": [
    "# Speichere als CSV\n",
    "windjammer_df.to_csv('windjammer.csv', index=False)\n",
    "print(\"Datei 'windjammer.csv' wurde erstellt.\")"
   ]
  }
 ],
 "metadata": {
  "kernelspec": {
   "display_name": "venv",
   "language": "python",
   "name": "python3"
  },
  "language_info": {
   "codemirror_mode": {
    "name": "ipython",
    "version": 3
   },
   "file_extension": ".py",
   "mimetype": "text/x-python",
   "name": "python",
   "nbconvert_exporter": "python",
   "pygments_lexer": "ipython3",
   "version": "3.10.14"
  }
 },
 "nbformat": 4,
 "nbformat_minor": 4
}
