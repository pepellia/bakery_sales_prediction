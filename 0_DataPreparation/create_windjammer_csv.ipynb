{
 "cells": [
  {
   "cell_type": "markdown",
   "metadata": {},
   "source": [
    "# Windjammerparade Daten Erstellung\n",
    "\n",
    "Dieses Notebook erstellt eine CSV-Datei mit den Daten der Windjammerparade während der Kieler Woche. Die Windjammerparade findet traditionell am zweiten Samstag der Kieler Woche statt."
   ]
  },
  {
   "cell_type": "markdown",
   "metadata": {},
   "source": [
    "## 1. Benötigte Bibliotheken importieren"
   ]
  },
  {
   "cell_type": "code",
   "execution_count": null,
   "metadata": {},
   "source": [
    "import pandas as pd"
   ]
  },
  {
   "cell_type": "markdown",
   "metadata": {},
   "source": [
    "## 2. Kieler Woche Daten einlesen\n",
    "\n",
    "Wir lesen die Kieler Woche Daten aus der CSV-Datei und konvertieren das Datum in das datetime-Format."
   ]
  },
  {
   "cell_type": "code",
   "execution_count": null,
   "metadata": {},
   "source": [
    "# Kieler Woche Daten einlesen\n",
    "kiwo_df = pd.read_csv('kiwo.csv')\n",
    "kiwo_df['Datum'] = pd.to_datetime(kiwo_df['Datum'])\n",
    "\n",
    "# Erste Zeilen anzeigen\n",
    "kiwo_df.head()"
   ]
  },
  {
   "cell_type": "markdown",
   "metadata": {},
   "source": [
    "## 3. Wochentage und Jahre hinzufügen\n",
    "\n",
    "Wir fügen zwei neue Spalten hinzu:\n",
    "- Wochentag (0 = Montag, 6 = Sonntag)\n",
    "- Jahr"
   ]
  },
  {
   "cell_type": "code",
   "execution_count": null,
   "metadata": {},
   "source": [
    "# Wochentag hinzufügen\n",
    "kiwo_df['Wochentag'] = kiwo_df['Datum'].dt.dayofweek\n",
    "\n",
    "# Jahr hinzufügen\n",
    "kiwo_df['Jahr'] = kiwo_df['Datum'].dt.year\n",
    "\n",
    "# Daten anzeigen\n",
    "kiwo_df.head()"
   ]
  },
  {
   "cell_type": "markdown",
   "metadata": {},
   "source": [
    "## 4. Windjammerparade-Tage identifizieren\n",
    "\n",
    "Die Windjammerparade findet am zweiten Samstag der Kieler Woche statt. Wir:\n",
    "1. Gruppieren die Daten nach Jahr\n",
    "2. Finden alle Samstage während der Kieler Woche\n",
    "3. Wählen den zweiten Samstag aus"
   ]
  },
  {
   "cell_type": "code",
   "execution_count": null,
   "metadata": {},
   "source": [
    "# Gruppiere nach Jahr\n",
    "kiwo_gruppen = kiwo_df.groupby('Jahr')\n",
    "\n",
    "# Liste für Windjammerparade-Tage\n",
    "windjammer_tage = []\n",
    "\n",
    "# Für jedes Jahr\n",
    "for jahr, gruppe in kiwo_gruppen:\n",
    "    # Finde alle Samstage (Wochentag 5) während der Kieler Woche\n",
    "    samstage = gruppe[gruppe['Wochentag'] == 5].sort_values('Datum')\n",
    "    \n",
    "    # Wenn es mindestens zwei Samstage gibt, nimm den zweiten\n",
    "    if len(samstage) >= 2:\n",
    "        windjammer_tag = samstage.iloc[1]['Datum']\n",
    "        windjammer_tage.append({\n",
    "            'Datum': windjammer_tag,\n",
    "            'Windjammerparade': 1\n",
    "        })\n",
    "\n",
    "# Erstelle DataFrame\n",
    "windjammer_df = pd.DataFrame(windjammer_tage)\n",
    "\n",
    "# Zeige die gefundenen Windjammerparade-Tage\n",
    "print(\"Windjammerparade-Tage:\")\n",
    "print(windjammer_df['Datum'].dt.strftime('%Y-%m-%d').to_string(index=False))"
   ]
  },
  {
   "cell_type": "markdown",
   "metadata": {},
   "source": [
    "## 5. Daten als CSV speichern"
   ]
  },
  {
   "cell_type": "code",
   "execution_count": null,
   "metadata": {},
   "source": [
    "# Speichere als CSV\n",
    "windjammer_df.to_csv('windjammer.csv', index=False)\n",
    "print(\"Datei 'windjammer.csv' wurde erstellt.\")"
   ]
  }
 ],
 "metadata": {
  "kernelspec": {
   "display_name": "Python 3",
   "language": "python",
   "name": "python3"
  },
  "language_info": {
   "codemirror_mode": {
    "name": "ipython",
    "version": 3
   },
   "file_extension": ".py",
   "mimetype": "text/x-python",
   "name": "python",
   "nbconvert_exporter": "python",
   "pygments_lexer": "ipython3",
   "version": "3.10"
  }
 },
 "nbformat": 4,
 "nbformat_minor": 4
}
