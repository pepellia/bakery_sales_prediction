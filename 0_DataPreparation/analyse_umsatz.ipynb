{
 "cells": [
  {
   "cell_type": "markdown",
   "metadata": {},
   "source": [
    "# Umsatz Analyse\n",
    "\n",
    "Dieses Notebook analysiert die Umsatzdaten der Bäckerei in Bezug auf verschiedene Faktoren wie:\n",
    "- Kieler Woche\n",
    "- Wetter (Temperatur, Bewölkung, Windgeschwindigkeit)\n",
    "- Zeitliche Verteilung"
   ]
  },
  {
   "cell_type": "markdown",
   "metadata": {},
   "source": [
    "## 1. Benötigte Bibliotheken importieren"
   ]
  },
  {
   "cell_type": "code",
   "execution_count": null,
   "metadata": {},
   "outputs": [],
   "source": [
    "import pandas as pd\n",
    "import matplotlib.pyplot as plt\n",
    "import seaborn as sns\n",
    "\n",
    "plt.switch_backend(\"Agg\")"
   ]
  },
  {
   "cell_type": "markdown",
   "metadata": {},
   "source": [
    "## 2. Daten einlesen und vorbereiten\n",
    "\n",
    "Wir lesen die verschiedenen CSV-Dateien ein und konvertieren die Datumsfelder."
   ]
  },
  {
   "cell_type": "code",
   "execution_count": null,
   "metadata": {},
   "outputs": [],
   "source": [
    "# Read CSV files\n",
    "umsatz_df = pd.read_csv(\"umsatzdaten_gekuerzt.csv\")\n",
    "kiwo_df = pd.read_csv(\"kiwo.csv\")\n",
    "wetter_df = pd.read_csv(\"wetter.csv\")\n",
    "\n",
    "# Convert Datum to datetime type for all dataframes\n",
    "umsatz_df[\"Datum\"] = pd.to_datetime(umsatz_df[\"Datum\"])\n",
    "kiwo_df[\"Datum\"] = pd.to_datetime(kiwo_df[\"Datum\"])\n",
    "wetter_df[\"Datum\"] = pd.to_datetime(wetter_df[\"Datum\"])\n",
    "\n",
    "# Show first few rows of each dataset\n",
    "print(\"Umsatzdaten:\")\n",
    "display(umsatz_df.head())\n",
    "print(\"\\nKieler Woche Daten:\")\n",
    "display(kiwo_df.head())\n",
    "print(\"\\nWetterdaten:\")\n",
    "display(wetter_df.head())"
   ]
  },
  {
   "cell_type": "markdown",
   "metadata": {},
   "source": [
    "## 3. Datensätze zusammenführen"
   ]
  },
  {
   "cell_type": "code",
   "execution_count": null,
   "metadata": {},
   "outputs": [],
   "source": [
    "# Merge all dataframes\n",
    "# First merge umsatz with kiwo\n",
    "merged_df = umsatz_df.merge(kiwo_df, on=\"Datum\", how=\"left\")\n",
    "\n",
    "# Then merge with weather data\n",
    "final_df = merged_df.merge(wetter_df, on=\"Datum\", how=\"left\")\n",
    "\n",
    "# Stelle sicher, dass KielerWoche als 0 und 1 codiert ist\n",
    "final_df['KielerWoche'] = final_df['KielerWoche'].fillna(0)  # Falls NaN-Werte existieren\n",
    "final_df['KielerWoche'] = final_df['KielerWoche'].astype(int)  # Konvertiere zu int\n",
    "\n",
    "# Show the first few rows of the merged dataset\n",
    "display(final_df.head())"
   ]
  },
  {
   "cell_type": "markdown",
   "metadata": {},
   "source": [
    "## 4. Deskriptive Statistiken"
   ]
  },
  {
   "cell_type": "code",
   "execution_count": null,
   "metadata": {},
   "outputs": [],
   "source": [
    "print(\"Deskriptive Statistiken:\")\n",
    "display(final_df.describe())"
   ]
  },
  {
   "cell_type": "markdown",
   "metadata": {},
   "source": [
    "## 5. Visualisierungen\n",
    "\n",
    "### 5.1 Umsatzverteilung"
   ]
  },
  {
   "cell_type": "code",
   "execution_count": null,
   "metadata": {},
   "outputs": [],
   "source": [
    "plt.figure(figsize=(10, 6))\n",
    "sns.histplot(data=final_df, x=\"Umsatz\", bins=30)\n",
    "plt.title(\"Verteilung der Umsätze\")\n",
    "plt.show()"
   ]
  },
  {
   "cell_type": "markdown",
   "metadata": {},
   "source": [
    "### 5.2 Temperaturverteilung"
   ]
  },
  {
   "cell_type": "code",
   "execution_count": null,
   "metadata": {},
   "outputs": [],
   "source": [
    "plt.figure(figsize=(10, 6))\n",
    "sns.histplot(data=final_df, x=\"Temperatur\", bins=30)\n",
    "plt.title(\"Verteilung der Temperaturen\")\n",
    "plt.show()"
   ]
  },
  {
   "cell_type": "markdown",
   "metadata": {},
   "source": [
    "### 5.3 Umsatz vs. Temperatur"
   ]
  },
  {
   "cell_type": "code",
   "execution_count": null,
   "metadata": {},
   "outputs": [],
   "source": [
    "plt.figure(figsize=(10, 6))\n",
    "sns.scatterplot(data=final_df, x=\"Temperatur\", y=\"Umsatz\")\n",
    "plt.title(\"Umsatz vs. Temperatur\")\n",
    "plt.show()"
   ]
  },
  {
   "cell_type": "markdown",
   "metadata": {},
   "source": [
    "### 5.4 Umsatz während der Kieler Woche"
   ]
  },
  {
   "cell_type": "code",
   "execution_count": null,
   "metadata": {},
   "outputs": [],
   "source": [
    "# Boxplot\n",
    "plt.figure(figsize=(12, 6))\n",
    "sns.boxplot(data=final_df, x='KielerWoche', y='Umsatz')\n",
    "plt.title('Umsatz Vergleich: Während vs. Außerhalb der Kieler Woche')\n",
    "plt.xlabel('Kieler Woche (0 = Außerhalb, 1 = Während)')\n",
    "plt.ylabel('Umsatz')\n",
    "plt.show()\n",
    "\n",
    "# Violin Plot\n",
    "plt.figure(figsize=(12, 6))\n",
    "sns.violinplot(data=final_df, x='KielerWoche', y='Umsatz')\n",
    "plt.title('Umsatzverteilung: Während vs. Außerhalb der Kieler Woche')\n",
    "plt.xlabel('Kieler Woche (0 = Außerhalb, 1 = Während)')\n",
    "plt.ylabel('Umsatz')\n",
    "plt.show()"
   ]
  },
  {
   "cell_type": "markdown",
   "metadata": {},
   "source": [
    "## 6. Statistische Analyse"
   ]
  },
  {
   "cell_type": "code",
   "execution_count": null,
   "metadata": {},
   "outputs": [],
   "source": [
    "# Statistische Kennzahlen für Kieler Woche\n",
    "print(\"\\nStatistische Kennzahlen für Umsätze während/außerhalb der Kieler Woche:\")\n",
    "display(final_df.groupby('KielerWoche')['Umsatz'].describe())\n",
    "\n",
    "# Korrelationen mit Umsatz\n",
    "correlations = final_df[[\"Umsatz\", \"KielerWoche\", \"Temperatur\", \"Bewoelkung\", \"Windgeschwindigkeit\"]].corr()\n",
    "umsatz_corr = correlations.loc[\"Umsatz\"]\n",
    "# Sortiere nach absolutem Korrelationswert (außer Umsatz selbst)\n",
    "umsatz_corr_sorted = pd.concat([\n",
    "    pd.Series({'Umsatz': 1.0}),\n",
    "    umsatz_corr[1:].abs().sort_values(ascending=False).map(lambda x: umsatz_corr[umsatz_corr.abs() == x].iloc[0])\n",
    "])\n",
    "\n",
    "print(\"\\nKorrelationen mit Umsatz (sortiert nach Stärke):\")\n",
    "display(umsatz_corr_sorted)\n",
    "\n",
    "# Korrelationsmatrix als Heatmap\n",
    "plt.figure(figsize=(12, 2))\n",
    "umsatz_corr_df = pd.DataFrame(umsatz_corr_sorted)\n",
    "sns.heatmap(umsatz_corr_df, \n",
    "            annot=True,               # Zeigt die Werte an\n",
    "            cmap=\"coolwarm\",          # Farbschema\n",
    "            center=0,                 # Zentriert die Farbskala bei 0\n",
    "            fmt=\".3f\",                # Zeigt 3 Dezimalstellen\n",
    "            annot_kws={\"size\": 10})   # Schriftgröße der Zahlen\n",
    "\n",
    "plt.title(\"Korrelationen mit Umsatz (sortiert nach Stärke)\")\n",
    "plt.show()"
   ]
  }
 ],
 "metadata": {
  "kernelspec": {
   "display_name": "Python 3",
   "language": "python",
   "name": "python3"
  },
  "language_info": {
   "codemirror_mode": {
    "name": "ipython",
    "version": 3
   },
   "file_extension": ".py",
   "mimetype": "text/x-python",
   "name": "python",
   "nbconvert_exporter": "python",
   "pygments_lexer": "ipython3",
   "version": "3.10"
  }
 },
 "nbformat": 4,
 "nbformat_minor": 4
}
